{
 "cells": [
  {
   "cell_type": "markdown",
   "metadata": {},
   "source": [
    "Notebook copied from Alla test notebook after running all the experiments and sending to the professor the report. The ideal will be to modify this file to get the final notebook to send to the prof."
   ]
  },
  {
   "cell_type": "markdown",
   "metadata": {
    "id": "VHVyAxm4ftLq",
    "jp-MarkdownHeadingCollapsed": true
   },
   "source": [
    "# Packages"
   ]
  },
  {
   "cell_type": "code",
   "execution_count": 1,
   "metadata": {
    "id": "6pk_XF4-ftLs"
   },
   "outputs": [],
   "source": [
    "from itertools import groupby # used when finding the partition of a given matrix A\n",
    "import numpy as np\n",
    "import random # used to generate de partition\n",
    "from scipy.stats import random_correlation # to generate the correlation matrix which is positive semidefinite\n",
    "from scipy.sparse import csr_matrix, csc_matrix, eye, vstack # types of sparse matrices, and to stack vertic. matrices\n",
    "from scipy.linalg import cho_factor, cho_solve, null_space # cholesky factorization\n",
    "from tabulate import tabulate\n",
    "import time\n",
    "\n",
    "SEED = 13\n",
    "random.seed(SEED) \n",
    "np.random.seed(SEED) "
   ]
  },
  {
   "cell_type": "markdown",
   "metadata": {},
   "source": [
    "# Functions to generate the quadratic problems"
   ]
  },
  {
   "cell_type": "code",
   "execution_count": 2,
   "metadata": {
    "id": "eJ77gK8nftLu"
   },
   "outputs": [],
   "source": [
    "def generate_symmetric_psd_matrix(n,rank):\n",
    "\n",
    "    assert rank <= n, \"Rank k must be less than to n\"\n",
    "\n",
    "    # Random matrices for rank-k construction\n",
    "    A = np.random.randn(n, rank)  # m x k matrix\n",
    "    B = np.random.randn(rank, n)  # k x m matrix\n",
    "\n",
    "    # Resultant matrix\n",
    "    Q = np.dot(A, B)\n",
    "\n",
    "    # Construct psd matrix by multiplying QQ^T\n",
    "    Q = np.dot(Q,Q.T)\n",
    "    return Q\n",
    "\n",
    "   \n",
    "def generate_symmetric_pd_matrix(n):\n",
    "    '''Function that returns a symmetric positive definite matrix.'''\n",
    "    \n",
    "    def generate_full_rank_matrix(n):\n",
    "        while True:\n",
    "            G = np.random.rand(n, n)  # Generate random matrix of size n x n\n",
    "            if np.linalg.matrix_rank(G) == n:  # Check if it's full rank\n",
    "                return G  \n",
    "            \n",
    "    G = generate_full_rank_matrix(n)\n",
    "    G_T = np.transpose(G)\n",
    "    Q = np.dot(G_T, G)\n",
    "    return Q\n",
    "\n",
    "def define_partition(n, k):\n",
    "    '''Function that returns a random partition of size k of the set {1...n}'''\n",
    "    \n",
    "    lst = list(range(0,n))\n",
    "    random.shuffle(lst) # shuffle the list to compose sets with different elements\n",
    "    indexes = sorted(random.sample(range(0,n-1), k - 1)) # up to n-1 bc we don't want to take as index the last one to don't generate empty subsets\n",
    "    cand_partition = [np.array(lst[start:end]) for start, end in zip([0] + indexes, indexes + [len(lst)])]\n",
    "    return cand_partition\n",
    "\n",
    "def partition(n,k):\n",
    "    while True:\n",
    "        partition = define_partition(n,k)\n",
    "        if all(len(subs) > 0 for subs in partition):\n",
    "            return partition\n",
    "        \n",
    "def matrix_of_constraints(partition): \n",
    "\n",
    "    '''Function that returns the matrix of constraints (in sparse format) defined by the given partition.'''\n",
    "    \n",
    "    n = sum([len(subset) for subset in partition])\n",
    "    partition = [subset for subset in partition]\n",
    "\n",
    "    # extract the indexes of the positions with ones\n",
    "    cols_idx = np.concatenate(partition)\n",
    "    rows_idx = [idx for idx, set in enumerate(partition) for _ in range(len(set))]\n",
    "\n",
    "    # create the matrix A\n",
    "    A = np.zeros((len(partition), n))\n",
    "    A[rows_idx, cols_idx] = 1\n",
    "\n",
    "    A = csc_matrix(A)\n",
    "    return A\n",
    "\n",
    "def define_vector_b(k):\n",
    "  'Generates a vector of ones of length k'\n",
    "  b = np.ones((k,1))\n",
    "  return b\n",
    "\n",
    "# Generate the initial vector\n",
    "def initial_point(partition):\n",
    "    '''Generates the vector x0 of size n such that the i-th position is 1 \n",
    "    if i is the smallest element in one of the subsets of the partition; \n",
    "    otherwise, it is 0.'''\n",
    "\n",
    "    n = sum([len(subset) for subset in partition])\n",
    "    positions_ones = [min(sub) for sub in partition]\n",
    "    \n",
    "    x0 = np.zeros((n,1))\n",
    "    np.add.at(x0, positions_ones, 1) # increment items of x0 in position 'positions' by 1.\n",
    "    # L = [i for i in range(n) if i not in positions_ones]\n",
    "    return x0\n",
    "\n",
    "def generate_c_vector(n):\n",
    "    '''Generate the vector representing the linear part of the objective function'''\n",
    "    c = np.random.rand(n)\n",
    "    c = c.reshape((n,1))\n",
    "    return c\n",
    "\n",
    "def generate_special_c_vector(Q,x_0):\n",
    "    c = np.matmul(Q,x_0)*-(1)\n",
    "    return c"
   ]
  },
  {
   "cell_type": "markdown",
   "metadata": {
    "id": "6V6e-q5BftLv",
    "jp-MarkdownHeadingCollapsed": true
   },
   "source": [
    "# Intermediate functions"
   ]
  },
  {
   "cell_type": "code",
   "execution_count": 4,
   "metadata": {
    "id": "wM1-UKLhftLv"
   },
   "outputs": [],
   "source": [
    "def find_the_partition(A):\n",
    "    '''Returns the partition associataed to the given matrix A of constraints'''\n",
    "    \n",
    "    positions = np.argwhere(A==1)\n",
    "    \n",
    "    #to use groupby the iterable needs to be sorted on the key function. np.argwhere returns it sorted\n",
    "    partition = [[col for row, col in group] for idxset, group in groupby(positions, key=lambda x: x[0])]\n",
    "    \n",
    "    return partition"
   ]
  },
  {
   "cell_type": "code",
   "execution_count": 5,
   "metadata": {
    "id": "gVEOcrQTftLv"
   },
   "outputs": [],
   "source": [
    "def find_permutation_matrix(U, partition):\n",
    "    \"\"\" Find the permutation matrix P given a partition and a set U of column indexes such that \n",
    "        AP = [I|Az], where A is a matrix of constraints\"\"\"    \n",
    "    els_U= [list(set(Pi).intersection(U)) for Pi in partition]\n",
    "\n",
    "    cumul_len = 0\n",
    "    cols_idxs = []\n",
    "    k = len(els_U)\n",
    "\n",
    "    for i, subs in enumerate(els_U):\n",
    "        \n",
    "        cols_idxs.append(i)\n",
    "        n_dependent_cols = len(subs)-1\n",
    "        dep_pos = [k+cumul_len+j for j in range(n_dependent_cols)]\n",
    "        cols_idxs.extend(dep_pos)\n",
    "        cumul_len = cumul_len + n_dependent_cols\n",
    "\n",
    "    U_flatten = [idx for subs in els_U for idx in subs]\n",
    "    U_flatten_copy = U_flatten.copy()\n",
    "    U_flatten.sort()\n",
    "    \n",
    "    new_positions = [(el_u, i) for i, el_u in enumerate(U_flatten)]\n",
    "    ordered_new_positions = sorted(new_positions, key=lambda x: U_flatten_copy.index(x[0]))\n",
    "    \n",
    "    rows_idxs = [x[1] for x in ordered_new_positions]\n",
    "\n",
    "    data = np.ones(len(rows_idxs))\n",
    "\n",
    "    permutation_matrix = csc_matrix((data, (rows_idxs, cols_idxs)), shape=(len(rows_idxs),len(rows_idxs)))\n",
    "\n",
    "    return permutation_matrix"
   ]
  },
  {
   "cell_type": "code",
   "execution_count": 6,
   "metadata": {
    "id": "LzG7GcQ0ftLw"
   },
   "outputs": [],
   "source": [
    "# Az is of size kx(u-k)\n",
    "def compute_Z(AuPerm, k, u):\n",
    "    ''' Returns the matrix Z = [-A_z] used to find the direction p\n",
    "                               [  I ] '''  \n",
    "    AZ = AuPerm[:, k:]\n",
    "    id_Z = eye(u-k)\n",
    "    Z = vstack((-AZ, id_Z))\n",
    "    return Z"
   ]
  },
  {
   "cell_type": "code",
   "execution_count": 7,
   "metadata": {
    "id": "sdbqMlVaftLx"
   },
   "outputs": [],
   "source": [
    "def compute_pz(Z, perm_m, Qu, Y, py, g_u):\n",
    "    '''pz is the vector obtained by solving the equation system\n",
    "        (PZ)^TQ_U(PZ)pz = -(PZ)^T(QuPYpy+gu)\n",
    "        where P=perm_m'''\n",
    "    \n",
    "    if Z.size == 0:\n",
    "        pz = np.empty(0)\n",
    "        return 1, pz\n",
    "    else:\n",
    "        # Find (PZ)^TQ_u(PZ),\n",
    "        PZ = perm_m@Z\n",
    "        PZTQ = PZ.transpose()@Qu\n",
    "        PZQPZ = PZTQ@PZ.toarray()\n",
    "        \n",
    "        try:\n",
    "            # Z^TQ_UYpy\n",
    "            PY = perm_m@Y\n",
    "            QPY = Qu@PY\n",
    "            QPYPy = QPY@py\n",
    "\n",
    "            term_r = -QPYPy - g_u\n",
    "            term_r = PZ.transpose()@term_r\n",
    "            term_r = term_r\n",
    "\n",
    "            # Find the Cholesky decomposition of (PZ)^TQPZ.\n",
    "            # If the matrix is singular we get an error.\n",
    "            ch, low = cho_factor(PZQPZ) \n",
    "\n",
    "            # Solve the linear equation (PZ)^TQPZ pz = term_r\n",
    "            pz = cho_solve((ch, low), term_r)\n",
    "            return 1, pz\n",
    "        except Exception as e:\n",
    "            # print(f\"Cholesky factorization failed: {e}\")\n",
    "            return 0, [] "
   ]
  },
  {
   "cell_type": "code",
   "execution_count": 8,
   "metadata": {
    "id": "RSLE1twlftLx"
   },
   "outputs": [],
   "source": [
    "def compute_lambdas(perm_m, Y, g_u, Qu, p_u):\n",
    "    '''Compute the Lagrange multipliers of the equality constraints as (PY)^T(gu+Qupu)'''\n",
    "    \n",
    "    PY = perm_m@Y\n",
    "    Qup_u = Qu@p_u\n",
    "    r_term = g_u+Qup_u\n",
    "\n",
    "    lambdas = PY.T@r_term\n",
    "    return lambdas\n",
    "\n",
    "def compute_mult_ineq(Q, x, c, mult_eq, A):\n",
    "    '''Compute the Lagrange multipliers of the inequality constraints as Qx+c-A^T*lambda'''\n",
    "   \n",
    "    Qx = np.matmul(Q, x)\n",
    "    ATLambda = A.T@mult_eq\n",
    "    mu = Qx+c-ATLambda\n",
    "    return mu"
   ]
  },
  {
   "cell_type": "code",
   "execution_count": 9,
   "metadata": {
    "id": "LBlGzfT2ftLx"
   },
   "outputs": [],
   "source": [
    "def matrix_vector_mult(matrix_, vector_):\n",
    "    '''Reshape the empty matrix obtained from the multiplication of either an empty matrix or an empty vector'''\n",
    "    mat_vec = matrix_@vector_\n",
    "    if matrix_.size == 0 or vector_.size==0:\n",
    "        mat_vec = mat_vec.reshape(matrix_.shape[0],1)\n",
    "    return mat_vec"
   ]
  },
  {
   "cell_type": "code",
   "execution_count": 10,
   "metadata": {
    "id": "EGjm_XfJftLy"
   },
   "outputs": [],
   "source": [
    "def activesetmethod2(Q, c, A, b, x, L, U, n, k, partition, iter, verbose):\n",
    "    def log(message):\n",
    "        if verbose:\n",
    "            print(message)\n",
    "\n",
    "    log('It {}'.format(iter))\n",
    "\n",
    "    U.sort() \n",
    "    u = len(U)\n",
    "\n",
    "    # Problem variables restricted to the set of non-active variables.\n",
    "    Q_U = Q[np.ix_(U, U)] # Q_UU\n",
    "    A_U = A[:, U] # Matrix of equality constraints\n",
    "    x_U = x[U,:] # value of x at the current iteration\n",
    "    g_U = Q_U@x_U + c[U,:] # gradient of the function at x_U\n",
    "\n",
    "    # Compute Y and Z  \n",
    "\n",
    "    # Find the permutation matrix. Step 2 in the pseudocode.\n",
    "    permutation_m = find_permutation_matrix(U, partition)    \n",
    "    \n",
    "    # Rearrange Au s.t AuP = [I|Az] with P permutation matrix\n",
    "    AuP = A_U@permutation_m \n",
    "\n",
    "    # Compute Y and Z as in step 3. \n",
    "    Y = csr_matrix(([1]*k, (list(range(k)), list(range(k)))), shape=(u, k))\n",
    "    Z = compute_Z(AuP, k, u) \n",
    "\n",
    "    # Compute py = -h_u = A_ux_u-b. Step 4\n",
    "    h_U = (A_U@x_U)-b\n",
    "    py = -h_U\n",
    "\n",
    "    # Use Cholesky factorization to compute pz. Step 6. \n",
    "    # If ZQZ singular status == 0. p will be computed in a different way.\n",
    "    status, pz = compute_pz(Z, permutation_m, Q_U, Y, py, g_U)\n",
    "\n",
    "    if status == 1: # Cholesky factorization succeed. pz was computed.\n",
    "\n",
    "        # Compute pu. Step 7\n",
    "        Y_py = matrix_vector_mult(Y, py)\n",
    "        Z_pz = matrix_vector_mult(Z, pz)\n",
    "\n",
    "        p_U = Y_py + Z_pz\n",
    "        p_U = permutation_m@p_U\n",
    "    \n",
    "        # Compute xu. Step 8\n",
    "        xu = x_U + p_U \n",
    "\n",
    "        if np.all(xu>=-1e-10): # Check feasibility of the new iteration\n",
    "            \n",
    "            log('new iter is feasible')\n",
    "            \n",
    "            x_ = np.zeros((n,1))\n",
    "            x_[U,:] = xu\n",
    "\n",
    "            # Compute Lagrange multipliers lambda. Step  11.\n",
    "            lag_mult = compute_lambdas(permutation_m, Y, g_U, Q_U, p_U)\n",
    "\n",
    "            # Compute dual multipliers. Step 12.\n",
    "            mu = compute_mult_ineq(Q, x_, c, lag_mult, A) \n",
    "\n",
    "            # Find the active variables with  with negative dual multiplier.\n",
    "            args_ = [(v,mu[v]) for v in np.argwhere(mu <= -1e-10)[:,0] if v in set(L)]\n",
    "\n",
    "            if len(args_) == 0:    # Check optimality.\n",
    "\n",
    "                L = np.argwhere(abs(x_)<=-1e-10)[:,0]\n",
    "                U = [i for i in range(len(x)) if i not in L]\n",
    "                \n",
    "                log('objective value: {} \\n'.format(0.5*x_.T@Q@x_ + x_.T@c))\n",
    "                \n",
    "                return x_, L, U, 'the solution is optimal' # Step 14\n",
    "            \n",
    "            else: \n",
    "\n",
    "                # Select the variable with the most negative dual multiplier. Step 16\n",
    "                const_to_drop, mu_v = min(args_, key=lambda t: t[1]) \n",
    "                # log('mu chosen: {}'.format(mu_v))\n",
    "                \n",
    "                # Update the set of active and non-active variables \n",
    "                L = L[L != const_to_drop] # Step 17\n",
    "                U = np.append(U,const_to_drop) # Step 18\n",
    "                U.sort()\n",
    "\n",
    "                log('objective value: {}'.format(0.5*x_.T@Q@x_ + x_.T@c) )\n",
    "                log('var removed from the active set (L) {} \\n'.format(const_to_drop))\n",
    "                \n",
    "                return x_, L, U, 'the solution is not optimal'\n",
    "            \n",
    "        else :\n",
    "\n",
    "            log('new iter is not feasible')\n",
    "\n",
    "            # Define the direction p. Step 22\n",
    "            p_ = np.zeros((n,1))\n",
    "            p_[U,:] = p_U \n",
    "\n",
    "            # Find the step-length parameter. Step 23, 25.\n",
    "            cand_alpha = [(-x[i,:]/p_[i,:],i) for i in U if p_[i,:] < -1e-10]\n",
    "            alpha, min_index = min(cand_alpha, key=lambda t: t[0])\n",
    "            \n",
    "            # Update the iteration. Step 24\n",
    "            x = x+alpha*p_\n",
    "\n",
    "            # Update the sets of active and non-active variables. Steps 26, 27.\n",
    "            U = U[U != min_index]\n",
    "            L = np.append(L,min_index)\n",
    "\n",
    "            log('objective value: {}'.format(0.5*x.T@Q@x + x.T@c))\n",
    "            log('step chosen: {}'.format(alpha))\n",
    "            log('var added to the active set: {} \\n'.format(min_index))\n",
    "            \n",
    "            return x, L, U, 'the solution is not optimal'\n",
    "\n",
    "    else: # ZQZ singular. \n",
    "        log(\"Cholesky factorization failed\")\n",
    "        \n",
    "        # Find p with p in Ker(Q_U) st A_Up=0, <c,p>!=0 and in opposite direction of the gradient\n",
    "        AU_dense = A_U.toarray() \n",
    "\n",
    "        AQ_stack = np.vstack((Q_U, AU_dense))\n",
    "\n",
    "        # Find an orthogonal basis for the null space of Q_U and A_U.\n",
    "        Z = null_space(AQ_stack)\n",
    "\n",
    "        # Project c onto Z.\n",
    "        proj_q = (c[U,:].T @ Z)*Z\n",
    "        p_U = np.sum(proj_q, axis=1) \n",
    "        p_U = p_U.reshape(-1,1)\n",
    "        \n",
    "        # Find p in opposite direction to the gradient\n",
    "        grad = Q_U@x_U+c[U,:]\n",
    "        proj_grad =np.sum(((A_U@grad)*AU_dense).T / np.sum(np.square(AU_dense), axis=1), axis=1).reshape(-1,1)\n",
    "        grad = grad - proj_grad \n",
    "        p_U = (p_U.T@grad/abs(p_U.T@grad))*p_U\n",
    "\n",
    "        if np.sign((c[U,:].T@p_U).flatten()[0]) == 1:\n",
    "            p_U = -p_U\n",
    "\n",
    "        # Define the direction p for all the variables.\n",
    "        p_ = np.zeros((n,1))\n",
    "        p_[U,:] = p_U \n",
    "        \n",
    "        # Find the step-length parameter. Same as step 23.\n",
    "        cand_alpha = [(-x[i,:]/p_[i,:],i) for i in U if p_[i,:] < -1e-10]\n",
    "        alpha, min_index = min(cand_alpha, key=lambda t: t[0])\n",
    "\n",
    "        # Update the iteration\n",
    "        x = x+alpha*p_\n",
    "\n",
    "        # Update the set of active and non-active variables.\n",
    "        U = U[U != min_index]\n",
    "        L = np.append(L,min_index)\n",
    "\n",
    "        log('objective value: {}'.format(0.5*x.T@Q@x + x.T@c))\n",
    "        log('step chosen: {}'.format(alpha))\n",
    "        log('const added to the active set: {} \\n'.format(min_index))\n",
    "        \n",
    "        return x, L, U, 'the solution is not optimal'"
   ]
  },
  {
   "cell_type": "code",
   "execution_count": 11,
   "metadata": {
    "id": "yJlfycDQftLy"
   },
   "outputs": [],
   "source": [
    "def active_set_method_optimizer(Q, c, A, b, x0, n, k, verbose, max_iter = 2000):\n",
    "\n",
    "  # Record the start time for timing the program\n",
    "  start_time = time.process_time()\n",
    "  \n",
    "  if Q.shape[0] != Q.shape[1]:\n",
    "     raise ValueError('Q must be a square matrix. Receive shape=({},{})'.format(Q.shape[0], Q.shape[1]))\n",
    "  if c.shape[0] != Q.shape[0]:\n",
    "     raise ValueError('Q and c must have the same dimension. Received Q as {} and c as {}' % (Q.shape, c.shape))\n",
    "  if Q.shape[0] != A.shape[1]:\n",
    "     raise ValueError('Q and A.T must have the same first dimension. Received Q as {} and A as {}' % (Q.shape, A.shape))\n",
    "  if b.shape[0] != A.shape[0]:\n",
    "    raise ValueError('The number of rows of A must match the length of b. Received A as {} and b as {}' % (A.shape, b.shape))\n",
    "\n",
    "  partition = find_the_partition(A)\n",
    "\n",
    "  # Starting variables\n",
    "  x = x0\n",
    "  U = np.nonzero(x)[0]\n",
    "  L = np.argwhere(x == 0)[:, 0]\n",
    "\n",
    "  res = 'the solution is not optimal'\n",
    "  iter = 0\n",
    "\n",
    "  while res == 'the solution is not optimal' and iter <= max_iter:    \n",
    "    x, L, U, res = activesetmethod2(Q, c, A, b, x, L, U, n, k, partition, iter, verbose)\n",
    "    iter +=1\n",
    "\n",
    "  # Compute the objective value reached\n",
    "  opt_v = 0.5*x.T@Q@x + x.T@c\n",
    "  opt_v = opt_v.flatten()[0]\n",
    "\n",
    "  # Define the final status of the output returned.\n",
    "  if res == 'the solution is not optimal' and iter > max_iter: \n",
    "    status = 'stopped'\n",
    "  else: \n",
    "    status = 'optimal' \n",
    "\n",
    "  # Compute the total execution time\n",
    "  end_time = time.process_time()\n",
    "  our_algo_time = end_time - start_time\n",
    "\n",
    "  return opt_v, x, status, iter, our_algo_time\n"
   ]
  },
  {
   "cell_type": "markdown",
   "metadata": {},
   "source": [
    "# Experiments"
   ]
  },
  {
   "cell_type": "markdown",
   "metadata": {},
   "source": [
    "## Functions to run the experiments and print the results"
   ]
  },
  {
   "cell_type": "code",
   "execution_count": 12,
   "metadata": {},
   "outputs": [],
   "source": [
    "import qpsolvers\n",
    "from qpsolvers import Problem, solve_problem\n",
    "import warnings\n",
    "warnings.filterwarnings(\"ignore\", category=UserWarning)\n",
    "import scipy.io"
   ]
  },
  {
   "cell_type": "code",
   "execution_count": 13,
   "metadata": {},
   "outputs": [],
   "source": [
    "#pip install 'qpsolvers[clarabel]'"
   ]
  },
  {
   "cell_type": "code",
   "execution_count": 14,
   "metadata": {
    "colab": {
     "base_uri": "https://localhost:8080/"
    },
    "id": "u_cI-ZQ3gr1W",
    "outputId": "c7ed1b1d-34b8-4fdd-c432-0b4da5c59676"
   },
   "outputs": [],
   "source": [
    "def clarabel_test_function(G, q, A, dim_m, nconst, verbose=True):\n",
    "    '''\n",
    "    P (Union[ndarray, csc_matrix]): Symmetric cost matrix (most solvers require it to be definite as well).\n",
    "    q (ndarray): Cost vector.\n",
    "    G (Union[ndarray, csc_matrix, None]) : Linear inequality matrix.\n",
    "    h (Optional[ndarray]) : Linear inequality vector.\n",
    "    A (Union[ndarray, csc_matrix, None]) : Linear equality matrix.\n",
    "    b (Optional[ndarray]) : Linear equality vector.\n",
    "    lb (Optional[ndarray]) : Lower bound constraint vector. Can contain -np.inf.\n",
    "    ub (Optional[ndarray]) : Upper bound constraint vector. Can contain +np.inf.\n",
    "    solver (Optional[str]) : Name of the QP solver, to choose in qpsolvers.available_solvers. This argument is mandatory.\n",
    "    initvals (Optional[ndarray]) : Primal candidate vector  values used to warm-start the solver.\n",
    "    verbose (bool) : Set to True to print out extra information.\n",
    "    '''\n",
    "    start_time = time.process_time()\n",
    "\n",
    "    # Set the variables of the problem\n",
    "    P = G\n",
    "    q = q\n",
    "    G_g = np.full((dim_m, dim_m), 0)\n",
    "    h = np.full((1, dim_m), 0).flatten()\n",
    "    A = A.toarray()\n",
    "    b = np.ones((1,nconst)).flatten()\n",
    "    lb = np.array([0]*dim_m)\n",
    "    ub = np.array([1]*dim_m)\n",
    "\n",
    "    # Find the objective value\n",
    "    x = qpsolvers.solve_qp(P, q, G_g, h, A, b, lb, ub, solver='clarabel')\n",
    "    problem = Problem(P, q, G_g, h, A, b)\n",
    "    solution = solve_problem(problem, 'clarabel')\n",
    "    \n",
    "    # Compute the total execution time\n",
    "    end_time = time.process_time()\n",
    "    gpu_time = end_time- start_time\n",
    "\n",
    "    # Extract additional info of the solution\n",
    "    extras = solution.extras\n",
    "    x_extr = solution.x\n",
    "    found = solution.found\n",
    "\n",
    "    return x, x_extr, found, solution, gpu_time, extras\n",
    "\n"
   ]
  },
  {
   "cell_type": "code",
   "execution_count": 15,
   "metadata": {},
   "outputs": [],
   "source": [
    "def gen_variables_for_tests_except_Q(Q, dim_m, ncons, c_type):\n",
    "\n",
    "    # Generate the partition that defines the equality constraints\n",
    "    part = partition(dim_m, ncons)\n",
    "\n",
    "    # Compute the matrix of constraints A\n",
    "    A = matrix_of_constraints(part)\n",
    "\n",
    "    # Define the vector b s.t Ax=b\n",
    "    b = define_vector_b(ncons)\n",
    "\n",
    "    # Compute the initial point and the sets of active and non-active constraints\n",
    "    x0 = initial_point(part)\n",
    "\n",
    "    # Define the linear part of the problem\n",
    "    if c_type=='basic':\n",
    "        c = generate_c_vector(dim_m)\n",
    "    elif c_type=='special':\n",
    "        c = generate_special_c_vector(Q,x0)\n",
    "        \n",
    "    return c, A, b, x0 "
   ]
  },
  {
   "cell_type": "code",
   "execution_count": 16,
   "metadata": {},
   "outputs": [],
   "source": [
    "import quadprog\n",
    "\n",
    "def quadprog_testing_function(G, q, A, b, dim_m, nconst):\n",
    "    start_time = time.process_time()\n",
    "    A = np.vstack((A.toarray(), np.identity(dim_m)))\n",
    "    b = np.vstack((b, np.zeros((dim_m,1))))\n",
    "    solution = quadprog.solve_qp(G, -q.reshape(-1), A.T, b.reshape(-1), meq=nconst)\n",
    "    x = solution[0]\n",
    "    opt_v = solution[1]\n",
    "    iterations = solution[3]\n",
    "    end_time = time.process_time()\n",
    "    quadprog_time = end_time - start_time\n",
    "    \n",
    "    return x, opt_v, quadprog_time, iterations"
   ]
  },
  {
   "cell_type": "code",
   "execution_count": 17,
   "metadata": {},
   "outputs": [],
   "source": [
    "def run_exp_and_populate_dict(Q, c, A, b, x0, dim_m, ncons, solver='clarabel', verbose=False, max_iter=2000):\n",
    "        \n",
    "    result = {'n': dim_m, 'k': ncons}\n",
    "    \n",
    "    # Run asqp\n",
    "    opt_v, x_asqp, status, iter, asqp_time = active_set_method_optimizer(Q, c, A, b, x0, dim_m, ncons, verbose, max_iter)\n",
    "    \n",
    "    result['asqp'] = {\"obj_v\": opt_v, \"x\": x_asqp, \"status\": status, \"time\": round(asqp_time,4)}\n",
    "    \n",
    "    if solver=='clarabel':\n",
    "        # Run Clarabel\n",
    "        x, x_extr, found, solution, time_c, extra = clarabel_test_function(Q, c, A, dim_m, ncons)\n",
    "        status_c = extra['status']\n",
    "        \n",
    "        if found==True and x is None:\n",
    "            x=x_extr\n",
    "        if found==True:\n",
    "            obj_v = 0.5*x.T@Q@x + c.T@x\n",
    "        elif found==False and  x is not None:\n",
    "            obj_v = 0.5*x.T@Q@x + c.T@x   \n",
    "        else:\n",
    "            obj_v = None\n",
    "        \n",
    "        result['clarabel'] = {\"obj_v\": obj_v, \"x\": x, \"status\": status_c, \"time\": time_c, \"extra\": extra}\n",
    "    else:\n",
    "        # Run quadprog\n",
    "        x_quad, obj_v, time_quadp, iterations = quadprog_testing_function(Q, c, A, b, dim_m, ncons)\n",
    "\n",
    "        result['quadprog'] = {\"obj_v\": obj_v, \"x\": x_quad, \"time\": time_quadp, \"quad_iterations\":iterations, \"status\": 'NA'}\n",
    "\n",
    "    return result"
   ]
  },
  {
   "cell_type": "code",
   "execution_count": 18,
   "metadata": {},
   "outputs": [],
   "source": [
    "def print_results(results, solver='clarabel'):\n",
    "\n",
    "    table_data = []\n",
    "    \n",
    "    for res in results:\n",
    "        if res[solver]['obj_v'] is not None:\n",
    "            asqp_v = res['asqp']['obj_v']\n",
    "            solver_v = res[solver]['obj_v']\n",
    "            # Relative gap\n",
    "            ref = min(asqp_v, solver_v)\n",
    "            oth_ = max(asqp_v, solver_v)\n",
    "            rel_gap = (oth_ - ref)/max(1,abs(ref))\n",
    "\n",
    "            # Absolute gap\n",
    "            abs_gap = asqp_v - solver_v\n",
    "        else:\n",
    "            rel_gap = None\n",
    "            abs_gap = None\n",
    "\n",
    "        table_data.append([res[\"k\"], \n",
    "                           res[\"n\"], \n",
    "                           res['asqp']['status'], \n",
    "                           res['asqp']['obj_v'], \n",
    "                           res[solver]['obj_v'], \n",
    "                           res['asqp']['time'], \n",
    "                           res[solver]['time'],\n",
    "                           abs_gap, \n",
    "                           rel_gap])\n",
    "        \n",
    "    headers = [\"k\", \n",
    "               \"n\",\n",
    "               \"ASQPstat\",\n",
    "               \"asqp_sol\",\n",
    "               solver+\"_sol\",\n",
    "               \"asqp_time\",\n",
    "               solver+\"_time\",\n",
    "               \"abs_gap\",\n",
    "               \"rel_gap\"]\n",
    "    \n",
    "    print(tabulate(table_data, headers=headers, tablefmt=\"github\"))\n"
   ]
  },
  {
   "cell_type": "code",
   "execution_count": 19,
   "metadata": {},
   "outputs": [],
   "source": [
    "sp_sizes = [100, 200, 500, 1000]\n",
    "k_values = [10, 50, 90]"
   ]
  },
  {
   "cell_type": "markdown",
   "metadata": {},
   "source": [
    "## 1,2 Q positive semidefinite, full rank, dense matrix"
   ]
  },
  {
   "cell_type": "markdown",
   "metadata": {},
   "source": [
    "### Basic case: q random"
   ]
  },
  {
   "cell_type": "code",
   "execution_count": 20,
   "metadata": {},
   "outputs": [
    {
     "name": "stdout",
     "output_type": "stream",
     "text": [
      "K =: 10 Size =  100\n",
      "K =: 10 Size =  200\n",
      "K =: 10 Size =  500\n",
      "K =: 10 Size =  1000\n",
      "K =: 50 Size =  100\n",
      "K =: 50 Size =  200\n",
      "K =: 50 Size =  500\n",
      "K =: 50 Size =  1000\n",
      "K =: 90 Size =  100\n",
      "K =: 90 Size =  200\n",
      "K =: 90 Size =  500\n",
      "K =: 90 Size =  1000\n"
     ]
    }
   ],
   "source": [
    "exp_numb = 1\n",
    "results_1 = []\n",
    "\n",
    "for k in k_values:\n",
    "    for n in sp_sizes:\n",
    "        print('K =:',str(k),'Size = ',str(n))\n",
    "        Q = generate_symmetric_psd_matrix(n,n)\n",
    "        c, A, b, x0 = gen_variables_for_tests_except_Q(Q, n, k, 'basic')\n",
    "        result = run_exp_and_populate_dict(Q, c, A, b, x0, n, k)\n",
    "        results_1.append(result)"
   ]
  },
  {
   "cell_type": "code",
   "execution_count": 21,
   "metadata": {},
   "outputs": [
    {
     "name": "stdout",
     "output_type": "stream",
     "text": [
      "|   k |    n | ASQPstat   |         asqp_sol |     clarabel_sol |   asqp_time |   clarabel_time |      abs_gap |     rel_gap |\n",
      "|-----|------|------------|------------------|------------------|-------------|-----------------|--------------|-------------|\n",
      "|  10 |  100 | optimal    |   1598.53        |   1598.53        |      0.4219 |        0.015625 | -6.01344e-08 | 3.76186e-11 |\n",
      "|  10 |  200 | optimal    |   5471.05        |   5471.05        |      0.625  |        0.109375 | -1.31948e-06 | 2.41175e-10 |\n",
      "|  10 |  500 | optimal    |  25747.9         |  25747.9         |      4.1875 |        0.71875  | -1.35697e-05 | 5.27022e-10 |\n",
      "|  10 | 1000 | optimal    |  45951.8         |  45951.8         |     24.875  |        5.34375  | -1.60404e-05 | 3.49069e-10 |\n",
      "|  50 |  100 | optimal    | 115974           | 115974           |      0.2031 |        0.03125  | -4.37837e-05 | 3.7753e-10  |\n",
      "|  50 |  200 | optimal    | 162370           | 162370           |      0.7188 |        0.078125 | -5.84064e-05 | 3.59711e-10 |\n",
      "|  50 |  500 | optimal    | 433934           | 433934           |      4.25   |        0.578125 | -0.000845748 | 1.94902e-09 |\n",
      "|  50 | 1000 | optimal    |      1.64841e+06 |      1.64841e+06 |     21.6875 |        3.5625   | -0.00146288  | 8.87451e-10 |\n",
      "|  90 |  100 | optimal    | 415953           | 415953           |      0.0469 |        0.015625 | -0.000252436 | 6.06885e-10 |\n",
      "|  90 |  200 | optimal    | 749262           | 749262           |      0.5312 |        0.09375  | -0.000635264 | 8.47852e-10 |\n",
      "|  90 |  500 | optimal    |      1.06596e+06 |      1.06596e+06 |      4.0625 |        0.671875 | -8.42661e-05 | 7.9052e-11  |\n",
      "|  90 | 1000 | optimal    |      3.74486e+06 |      3.74486e+06 |     27.0312 |        4.39062  | -0.000521859 | 1.39353e-10 |\n"
     ]
    }
   ],
   "source": [
    "print_results(results_1)"
   ]
  },
  {
   "cell_type": "markdown",
   "metadata": {},
   "source": [
    "###  Special case c = -Q*x0"
   ]
  },
  {
   "cell_type": "code",
   "execution_count": 22,
   "metadata": {},
   "outputs": [
    {
     "name": "stdout",
     "output_type": "stream",
     "text": [
      "K =: 10 Size =  100\n",
      "K =: 10 Size =  200\n",
      "K =: 10 Size =  500\n",
      "K =: 10 Size =  1000\n",
      "K =: 50 Size =  100\n",
      "K =: 50 Size =  200\n",
      "K =: 50 Size =  500\n",
      "K =: 50 Size =  1000\n",
      "K =: 90 Size =  100\n",
      "K =: 90 Size =  200\n",
      "K =: 90 Size =  500\n",
      "K =: 90 Size =  1000\n"
     ]
    }
   ],
   "source": [
    "exp_numb = 2\n",
    "results_2 = []\n",
    "\n",
    "for k in k_values:\n",
    "    for n in sp_sizes:\n",
    "        print('K =:',str(k),'Size = ',str(n))\n",
    "        Q = generate_symmetric_psd_matrix(n,n)\n",
    "        c, A, b, x0 = gen_variables_for_tests_except_Q(Q, n, k, 'special')\n",
    "        result = run_exp_and_populate_dict(Q, c, A, b, x0, n, k)\n",
    "        results_2.append(result)"
   ]
  },
  {
   "cell_type": "code",
   "execution_count": 23,
   "metadata": {},
   "outputs": [
    {
     "name": "stdout",
     "output_type": "stream",
     "text": [
      "|   k |    n | ASQPstat   |          asqp_sol |      clarabel_sol |   asqp_time |   clarabel_time |      abs_gap |     rel_gap |\n",
      "|-----|------|------------|-------------------|-------------------|-------------|-----------------|--------------|-------------|\n",
      "|  10 |  100 | optimal    |  -52181.3         |  -52181.3         |      0.0156 |        0        | -9.05091e-05 | 1.73451e-09 |\n",
      "|  10 |  200 | optimal    | -161663           | -161663           |      0      |        0.125    | -0.000123729 | 7.65349e-10 |\n",
      "|  10 |  500 | optimal    |      -1.26365e+06 |      -1.26365e+06 |      0.0156 |        0.8125   | -0.00252417  | 1.99753e-09 |\n",
      "|  10 | 1000 | optimal    |      -5.30861e+06 |      -5.30861e+06 |      0.0469 |        5.70312  | -0.0150221   | 2.82976e-09 |\n",
      "|  50 |  100 | optimal    | -272382           | -272382           |      0.0156 |        0.046875 | -0.000222733 | 8.17723e-10 |\n",
      "|  50 |  200 | optimal    | -955715           | -955715           |      0      |        0.140625 | -0.00313765  | 3.28303e-09 |\n",
      "|  50 |  500 | optimal    |      -6.52978e+06 |      -6.52978e+06 |      0.0625 |        0.75     | -0.0104667   | 1.60291e-09 |\n",
      "|  50 | 1000 | optimal    |      -2.60028e+07 |      -2.60028e+07 |     65.2969 |        5.29688  | -0.0207057   | 7.96288e-10 |\n",
      "|  90 |  100 | optimal    | -323000           | -323000           |      0      |        0.03125  | -0.00095649  | 2.96127e-09 |\n",
      "|  90 |  200 | optimal    |      -1.80651e+06 |      -1.80651e+06 |      0      |        0.125    | -0.00251779  | 1.39373e-09 |\n",
      "|  90 |  500 | optimal    |      -1.11789e+07 |      -1.11789e+07 |      0.0625 |        0.8125   | -0.00956771  | 8.55869e-10 |\n",
      "|  90 | 1000 | optimal    |      -4.48579e+07 |      -4.48579e+07 |     69.3594 |        5.03125  | -0.0586017   | 1.30638e-09 |\n"
     ]
    }
   ],
   "source": [
    "print_results(results_2)"
   ]
  },
  {
   "cell_type": "markdown",
   "metadata": {},
   "source": [
    "## 3,4 Q positive semidefinite, low rank, dense matrix"
   ]
  },
  {
   "cell_type": "markdown",
   "metadata": {},
   "source": [
    "### Basic case"
   ]
  },
  {
   "cell_type": "code",
   "execution_count": 24,
   "metadata": {
    "scrolled": true
   },
   "outputs": [
    {
     "name": "stdout",
     "output_type": "stream",
     "text": [
      "K =: 10 Size =  100\n",
      "K =: 10 Size =  200\n",
      "K =: 10 Size =  500\n",
      "K =: 10 Size =  1000\n",
      "K =: 50 Size =  100\n",
      "K =: 50 Size =  200\n",
      "K =: 50 Size =  500\n",
      "K =: 50 Size =  1000\n",
      "K =: 90 Size =  100\n",
      "K =: 90 Size =  200\n",
      "K =: 90 Size =  500\n",
      "K =: 90 Size =  1000\n"
     ]
    }
   ],
   "source": [
    "exp_numb = 3\n",
    "results_3 = []\n",
    "\n",
    "for k in k_values:\n",
    "    for n in sp_sizes:\n",
    "        print('K =:',str(k),'Size = ',str(n))\n",
    "        Q = generate_symmetric_psd_matrix(n,50)\n",
    "        c, A, b, x0 = gen_variables_for_tests_except_Q(Q, n, k, 'basic')\n",
    "\n",
    "        max_iter = 2000\n",
    "        if n>=500:\n",
    "            max_iter = 5000\n",
    "\n",
    "        result = run_exp_and_populate_dict(Q, c, A, b, x0, n, k, 'clarabel', verbose=False, max_iter=max_iter)  \n",
    "        results_3.append(result)"
   ]
  },
  {
   "cell_type": "code",
   "execution_count": 25,
   "metadata": {
    "scrolled": true
   },
   "outputs": [
    {
     "name": "stdout",
     "output_type": "stream",
     "text": [
      "|   k |    n | ASQPstat   |     asqp_sol |   clarabel_sol |   asqp_time |   clarabel_time |      abs_gap |     rel_gap |\n",
      "|-----|------|------------|--------------|----------------|-------------|-----------------|--------------|-------------|\n",
      "|  10 |  100 | optimal    |    502.383   |      502.383   |      0.25   |        0.03125  | -1.98366e-06 | 3.9485e-09  |\n",
      "|  10 |  200 | optimal    |    203.497   |      203.497   |      0.5781 |        0.09375  | -3.25304e-08 | 1.59857e-10 |\n",
      "|  10 |  500 | optimal    |      1.34422 |        1.34422 |      4.6719 |        0.828125 | -3.46435e-10 | 2.57723e-10 |\n",
      "|  10 | 1000 | optimal    |      1.00704 |        1.00704 |     14.5625 |        6.57812  | -7.07692e-10 | 7.02745e-10 |\n",
      "|  50 |  100 | optimal    |  39860.3     |    39860.3     |      0.2812 |        0.03125  | -1.41652e-05 | 3.5537e-10  |\n",
      "|  50 |  200 | optimal    |   7081.03    |     7081.03    |      0.5625 |        0.125    | -2.85725e-05 | 4.03508e-09 |\n",
      "|  50 |  500 | optimal    |     13.8134  |       13.8134  |      7.4531 |        0.84375  | -3.80387e-08 | 2.75375e-09 |\n",
      "|  50 | 1000 | optimal    |      5.44711 |        5.44711 |     23.1094 |        5.71875  | -1.66573e-09 | 3.05801e-10 |\n",
      "|  90 |  100 | optimal    | 161755       |   161755       |      0.0625 |        0.03125  | -2.31425e-06 | 1.43071e-11 |\n",
      "|  90 |  200 | optimal    |  45080       |    45080       |      0.6094 |        0.109375 | -2.32824e-05 | 5.16468e-10 |\n",
      "|  90 |  500 | optimal    |     30.8853  |       30.8853  |      9.25   |        0.9375   | -1.63696e-08 | 5.30015e-10 |\n",
      "|  90 | 1000 | optimal    |     15.1876  |       15.1876  |     33.1094 |        5.54688  | -5.49829e-09 | 3.62024e-10 |\n"
     ]
    }
   ],
   "source": [
    "print_results(results_3)"
   ]
  },
  {
   "cell_type": "markdown",
   "metadata": {},
   "source": [
    "### Special case"
   ]
  },
  {
   "cell_type": "code",
   "execution_count": 26,
   "metadata": {},
   "outputs": [
    {
     "name": "stdout",
     "output_type": "stream",
     "text": [
      "K =: 10 Size =  100\n",
      "K =: 10 Size =  200\n",
      "K =: 10 Size =  500\n",
      "K =: 10 Size =  1000\n",
      "K =: 50 Size =  100\n",
      "K =: 50 Size =  200\n",
      "K =: 50 Size =  500\n",
      "K =: 50 Size =  1000\n",
      "K =: 90 Size =  100\n",
      "K =: 90 Size =  200\n",
      "K =: 90 Size =  500\n",
      "K =: 90 Size =  1000\n"
     ]
    }
   ],
   "source": [
    "exp_numb = 4\n",
    "results_4 = []\n",
    "for k in k_values:\n",
    "    for n in sp_sizes:\n",
    "        print('K =:',str(k),'Size = ',str(n))\n",
    "        Q = generate_symmetric_psd_matrix(n,50)\n",
    "        c, A, b, x0 = gen_variables_for_tests_except_Q(Q, n, k, 'special')\n",
    "\n",
    "        max_iter = 2000\n",
    "        if n>=500:\n",
    "            max_iter = 5000\n",
    "\n",
    "        result = run_exp_and_populate_dict(Q, c, A, b, x0, n, k, 'clarabel', verbose=False, max_iter=max_iter)   \n",
    "        results_4.append(result)"
   ]
  },
  {
   "cell_type": "code",
   "execution_count": 27,
   "metadata": {},
   "outputs": [
    {
     "name": "stdout",
     "output_type": "stream",
     "text": [
      "|   k |    n | ASQPstat   |          asqp_sol |   clarabel_sol |   asqp_time |   clarabel_time |      abs_gap |     rel_gap |\n",
      "|-----|------|------------|-------------------|----------------|-------------|-----------------|--------------|-------------|\n",
      "|  10 |  100 | optimal    |  -27899.8         |       -27899.8 |      0      |        0.03125  | -3.66729e-05 | 1.31445e-09 |\n",
      "|  10 |  200 | optimal    |  -37705.1         |       -37705.1 |      0.0156 |        0.125    | -7.44737e-05 | 1.97516e-09 |\n",
      "|  10 |  500 | optimal    | -145090           |      -145090   |      0.0312 |        0.828125 | -0.000128322 | 8.84432e-10 |\n",
      "|  10 | 1000 | optimal    | -291859           |      -291859   |      0.0312 |        5.76562  | -0.000836412 | 2.86581e-09 |\n",
      "|  50 |  100 | optimal    | -116578           |      -116578   |      0      |        0.03125  | -0.000100625 | 8.63159e-10 |\n",
      "|  50 |  200 | optimal    | -298674           |      -298674   |      0.0156 |        0.109375 | -0.000420692 | 1.40853e-09 |\n",
      "|  50 |  500 | optimal    | -601310           |                |      0      |        0.640625 |              |             |\n",
      "|  50 | 1000 | optimal    |      -1.6153e+06  |                |      0.0312 |        3.84375  |              |             |\n",
      "|  90 |  100 | optimal    | -214353           |      -214353   |      0.0312 |        0.03125  | -0.000512808 | 2.39235e-09 |\n",
      "|  90 |  200 | optimal    | -411522           |      -411522   |      0      |        0.125    | -0.000692428 | 1.6826e-09  |\n",
      "|  90 |  500 | optimal    |      -1.06365e+06 |                |      0.0156 |        0.59375  |              |             |\n",
      "|  90 | 1000 | optimal    |      -2.45314e+06 |                |      0.0312 |        2.89062  |              |             |\n"
     ]
    }
   ],
   "source": [
    "print_results(results_4)"
   ]
  },
  {
   "cell_type": "markdown",
   "metadata": {},
   "source": [
    "## 5,6 Q positive semidefinite, full rank, sparse matrix"
   ]
  },
  {
   "cell_type": "markdown",
   "metadata": {},
   "source": [
    "### Basic case"
   ]
  },
  {
   "cell_type": "code",
   "execution_count": 28,
   "metadata": {},
   "outputs": [
    {
     "name": "stdout",
     "output_type": "stream",
     "text": [
      "K =: 10 Size =  1000\n",
      "K =: 10 Size =  1000\n",
      "K =: 10 Size =  1000\n",
      "K =: 10 Size =  1000\n",
      "K =: 50 Size =  1000\n",
      "K =: 50 Size =  1000\n",
      "K =: 50 Size =  1000\n",
      "K =: 50 Size =  1000\n",
      "K =: 90 Size =  1000\n",
      "K =: 90 Size =  1000\n",
      "K =: 90 Size =  1000\n",
      "K =: 90 Size =  1000\n"
     ]
    }
   ],
   "source": [
    "exp_numb = 5\n",
    "results_5 = []\n",
    "for k in k_values:\n",
    "    for i in sp_sizes:\n",
    "        print('K =:',str(k),'Size = ',str(n))\n",
    "        mat = scipy.io.loadmat('C:/Users/SteffaniaSierraG/Documents/ODS_PROJECT/active_set_method_code/ActiveSetAlgorithm/SparseMatrices/matrix'+str(n)+'spar0.2.mat')\n",
    "        sparse_matlab = mat['sparse_psd']\n",
    "        sparse_python = csr_matrix(sparse_matlab)\n",
    "        Q = sparse_python.toarray()\n",
    "        c, A, b, x0 = gen_variables_for_tests_except_Q(Q, n, k, 'basic')\n",
    "        result = run_exp_and_populate_dict(Q, c, A, b, x0, n, k)  \n",
    "        results_5.append(result)     "
   ]
  },
  {
   "cell_type": "code",
   "execution_count": 29,
   "metadata": {},
   "outputs": [
    {
     "name": "stdout",
     "output_type": "stream",
     "text": [
      "|   k |    n | ASQPstat   |   asqp_sol |   clarabel_sol |   asqp_time |   clarabel_time |      abs_gap |     rel_gap |\n",
      "|-----|------|------------|------------|----------------|-------------|-----------------|--------------|-------------|\n",
      "|  10 | 1000 | optimal    |   0.550542 |       0.550542 |      1.3438 |         1.21875 | -7.13104e-10 | 7.13104e-10 |\n",
      "|  10 | 1000 | optimal    |   0.631969 |       0.631969 |      2.4219 |         1.23438 | -2.77227e-10 | 2.77227e-10 |\n",
      "|  10 | 1000 | optimal    |   0.738325 |       0.738325 |      2.1562 |         1.17188 | -3.29783e-10 | 3.29783e-10 |\n",
      "|  10 | 1000 | optimal    |   0.669249 |       0.669249 |      1.4688 |         1.15625 | -9.32223e-10 | 9.32223e-10 |\n",
      "|  50 | 1000 | optimal    |  11.2982   |      11.2982   |      5.5469 |         1.14062 | -1.4044e-09  | 1.24303e-10 |\n",
      "|  50 | 1000 | optimal    |   9.66496  |       9.66496  |      5.5625 |         1.20312 | -1.57086e-08 | 1.62531e-09 |\n",
      "|  50 | 1000 | optimal    |  12.8338   |      12.8338   |      6.9219 |         1.625   | -1.51333e-08 | 1.17917e-09 |\n",
      "|  50 | 1000 | optimal    |  12.2577   |      12.2577   |      6.4844 |         1.23438 | -4.45993e-08 | 3.63848e-09 |\n",
      "|  90 | 1000 | optimal    |  26.5867   |      26.5867   |      8.3125 |         1.21875 | -8.29432e-09 | 3.11973e-10 |\n",
      "|  90 | 1000 | optimal    |  26.1691   |      26.1691   |      9.4219 |         1.28125 | -1.92821e-08 | 7.36825e-10 |\n",
      "|  90 | 1000 | optimal    |  26.6401   |      26.6401   |      9.7344 |         1.29688 | -2.31615e-08 | 8.69421e-10 |\n",
      "|  90 | 1000 | optimal    |  25.5319   |      25.5319   |      9.5156 |         1.1875  | -1.86255e-08 | 7.29498e-10 |\n"
     ]
    }
   ],
   "source": [
    "print_results(results_5)"
   ]
  },
  {
   "cell_type": "markdown",
   "metadata": {},
   "source": [
    "#### Special case"
   ]
  },
  {
   "cell_type": "code",
   "execution_count": 30,
   "metadata": {},
   "outputs": [
    {
     "name": "stdout",
     "output_type": "stream",
     "text": [
      "K =: 10 Size =  100\n",
      "K =: 10 Size =  200\n",
      "K =: 10 Size =  500\n",
      "K =: 10 Size =  1000\n",
      "K =: 50 Size =  100\n",
      "K =: 50 Size =  200\n",
      "K =: 50 Size =  500\n",
      "K =: 50 Size =  1000\n",
      "K =: 90 Size =  100\n",
      "K =: 90 Size =  200\n",
      "K =: 90 Size =  500\n",
      "K =: 90 Size =  1000\n"
     ]
    }
   ],
   "source": [
    "exp_numb = 6\n",
    "results_6 = []\n",
    "for k in k_values:\n",
    "    for n in sp_sizes:\n",
    "        print('K =:',str(k),'Size = ',str(n))\n",
    "        mat = scipy.io.loadmat('C:/Users/SteffaniaSierraG/Documents/ODS_PROJECT/active_set_method_code/ActiveSetAlgorithm/SparseMatrices/matrix'+str(n)+'spar0.2.mat')\n",
    "        sparse_matlab = mat['sparse_psd']\n",
    "        sparse_python = csr_matrix(sparse_matlab)\n",
    "        Q = sparse_python.toarray()\n",
    "        c, A, b, x0 = gen_variables_for_tests_except_Q(Q, n, k, 'special')\n",
    "        result = run_exp_and_populate_dict(Q, c, A, b, x0, n, k)\n",
    "        results_6.append(result)\n",
    "            "
   ]
  },
  {
   "cell_type": "code",
   "execution_count": 31,
   "metadata": {},
   "outputs": [
    {
     "name": "stdout",
     "output_type": "stream",
     "text": [
      "|   k |    n | ASQPstat   |   asqp_sol |   clarabel_sol |   asqp_time |   clarabel_time |      abs_gap |     rel_gap |\n",
      "|-----|------|------------|------------|----------------|-------------|-----------------|--------------|-------------|\n",
      "|  10 |  100 | optimal    |  -2.08033  |      -2.08033  |      0      |        0.015625 | -6.2881e-09  | 3.02265e-09 |\n",
      "|  10 |  200 | optimal    |  -1.98645  |      -1.98645  |      0      |        0.0625   | -1.80342e-09 | 9.07861e-10 |\n",
      "|  10 |  500 | optimal    |  -0.788304 |      -0.788304 |      0      |        0.3125   | -4.01242e-10 | 4.01242e-10 |\n",
      "|  10 | 1000 | optimal    |  -3.33532  |      -3.33532  |      0.0156 |        1.54688  | -4.13527e-09 | 1.23984e-09 |\n",
      "|  50 |  100 | optimal    | -10.3473   |     -10.3473   |      0      |        0.03125  | -1.08956e-08 | 1.05299e-09 |\n",
      "|  50 |  200 | optimal    | -14.8684   |     -14.8684   |      0      |        0.0625   | -3.52583e-08 | 2.37135e-09 |\n",
      "|  50 |  500 | optimal    |  -6.08087  |      -6.08087  |      0.0312 |        0.28125  | -2.56358e-09 | 4.21582e-10 |\n",
      "|  50 | 1000 | optimal    | -15.701    |     -15.701    |      0.0312 |        1.4375   | -2.79416e-08 | 1.7796e-09  |\n",
      "|  90 |  100 | optimal    | -19.9623   |     -19.9623   |      0      |        0.03125  | -4.63623e-08 | 2.3225e-09  |\n",
      "|  90 |  200 | optimal    | -16.0861   |     -16.0861   |      0      |        0.0625   | -3.79413e-08 | 2.35864e-09 |\n",
      "|  90 |  500 | optimal    | -12.3908   |     -12.3908   |      0.0312 |        0.265625 | -4.76342e-09 | 3.84433e-10 |\n",
      "|  90 | 1000 | optimal    | -31.8466   |     -31.8466   |      0.0312 |        1.53125  | -9.21975e-08 | 2.89505e-09 |\n"
     ]
    }
   ],
   "source": [
    "print_results(results_6)"
   ]
  },
  {
   "cell_type": "markdown",
   "metadata": {},
   "source": [
    "##  7,8 Q positive semidefinite, full rank, dense matrix"
   ]
  },
  {
   "cell_type": "markdown",
   "metadata": {},
   "source": [
    "#### Basic"
   ]
  },
  {
   "cell_type": "code",
   "execution_count": 32,
   "metadata": {},
   "outputs": [
    {
     "name": "stdout",
     "output_type": "stream",
     "text": [
      "K =: 10 Size = 100\n",
      "K =: 10 Size = 200\n",
      "K =: 10 Size = 500\n",
      "K =: 10 Size = 1000\n",
      "K =: 50 Size = 100\n",
      "K =: 50 Size = 200\n",
      "K =: 50 Size = 500\n",
      "K =: 50 Size = 1000\n",
      "K =: 90 Size = 100\n",
      "K =: 90 Size = 200\n",
      "K =: 90 Size = 500\n",
      "K =: 90 Size = 1000\n"
     ]
    }
   ],
   "source": [
    "exp_numb = 7\n",
    "results_7 = []\n",
    "for k in k_values:\n",
    "    for n in sp_sizes:\n",
    "        print(f\"K =: {k} Size = {n}\")\n",
    "        Q = generate_symmetric_pd_matrix(n)\n",
    "        c, A, b, x0 = gen_variables_for_tests_except_Q(Q, n, k, 'basic')\n",
    "        result = run_exp_and_populate_dict(Q, c, A, b, x0, n, k, 'quadprog')\n",
    "        results_7.append(result)"
   ]
  },
  {
   "cell_type": "code",
   "execution_count": 33,
   "metadata": {},
   "outputs": [
    {
     "name": "stdout",
     "output_type": "stream",
     "text": [
      "|   k |    n | ASQPstat   |   asqp_sol |   quadprog_sol |   asqp_time |   quadprog_time |      abs_gap |     rel_gap |\n",
      "|-----|------|------------|------------|----------------|-------------|-----------------|--------------|-------------|\n",
      "|  10 |  100 | optimal    |    1078.93 |        1078.93 |      0.1094 |        0        | -5.6616e-11  | 5.24744e-14 |\n",
      "|  10 |  200 | optimal    |    2258.68 |        2258.68 |      0.1562 |        0.0625   | -4.2337e-10  | 1.87441e-13 |\n",
      "|  10 |  500 | optimal    |    5834.14 |        5834.14 |      0.4062 |        0.671875 |  3.75621e-10 | 6.43834e-14 |\n",
      "|  10 | 1000 | optimal    |   11693.3  |       11693.3  |      1.2344 |        4.76562  |  5.18412e-10 | 4.43339e-14 |\n",
      "|  50 |  100 | optimal    |   29607.3  |       29607.3  |      0.1406 |        0.03125  | -2.58296e-10 | 8.72409e-15 |\n",
      "|  50 |  200 | optimal    |   59334.4  |       59334.4  |      0.4219 |        0.0625   | -6.1118e-10  | 1.03006e-14 |\n",
      "|  50 |  500 | optimal    |  148076    |      148076    |      0.9219 |        0.765625 |  8.03266e-09 | 5.4247e-14  |\n",
      "|  50 | 1000 | optimal    |  295347    |      295347    |      2.0938 |        4.84375  | -3.26545e-08 | 1.10563e-13 |\n",
      "|  90 |  100 | optimal    |   99676.9  |       99676.9  |      0.0312 |        0        |  4.36557e-11 | 4.37973e-16 |\n",
      "|  90 |  200 | optimal    |  197305    |      197305    |      0.3594 |        0.046875 |  3.0268e-09  | 1.53407e-14 |\n",
      "|  90 |  500 | optimal    |  483797    |      483797    |      1.2812 |        0.75     | -1.32504e-06 | 2.73883e-12 |\n",
      "|  90 | 1000 | optimal    |  967572    |      967572    |      3.5469 |        4.85938  | -1.01188e-06 | 1.04579e-12 |\n"
     ]
    }
   ],
   "source": [
    "print_results(results_7, 'quadprog') "
   ]
  },
  {
   "cell_type": "markdown",
   "metadata": {},
   "source": [
    "#### Special"
   ]
  },
  {
   "cell_type": "code",
   "execution_count": 34,
   "metadata": {},
   "outputs": [
    {
     "name": "stdout",
     "output_type": "stream",
     "text": [
      "K =: 10 Size = 100\n",
      "K =: 10 Size = 200\n",
      "K =: 10 Size = 500\n",
      "K =: 10 Size = 1000\n",
      "K =: 50 Size = 100\n",
      "K =: 50 Size = 200\n",
      "K =: 50 Size = 500\n",
      "K =: 50 Size = 1000\n",
      "K =: 90 Size = 100\n",
      "K =: 90 Size = 200\n",
      "K =: 90 Size = 500\n",
      "K =: 90 Size = 1000\n"
     ]
    }
   ],
   "source": [
    "exp_numb = 8\n",
    "results_8 = []\n",
    "for k in k_values:\n",
    "    for n in sp_sizes:\n",
    "        print(f\"K =: {k} Size = {n}\")\n",
    "        Q = generate_symmetric_pd_matrix(n)\n",
    "        c, A, b, x0 = gen_variables_for_tests_except_Q(Q, n, k, 'special')\n",
    "        result = run_exp_and_populate_dict(Q, c, A, b, x0, n, k, 'quadprog')\n",
    "        results_8.append(result)"
   ]
  },
  {
   "cell_type": "code",
   "execution_count": 35,
   "metadata": {},
   "outputs": [
    {
     "name": "stdout",
     "output_type": "stream",
     "text": [
      "|   k |    n | ASQPstat   |          asqp_sol |      quadprog_sol |   asqp_time |   quadprog_time |      abs_gap |     rel_gap |\n",
      "|-----|------|------------|-------------------|-------------------|-------------|-----------------|--------------|-------------|\n",
      "|  10 |  100 | optimal    |   -1369.71        |   -1369.71        |      0      |        0        |  2.27374e-13 | 1.66002e-16 |\n",
      "|  10 |  200 | optimal    |   -2614.06        |   -2614.06        |      0.0156 |        0.046875 |  9.09495e-13 | 3.47925e-16 |\n",
      "|  10 |  500 | optimal    |   -6598.84        |   -6598.84        |      0.0312 |        0.671875 | -4.54747e-12 | 6.89132e-16 |\n",
      "|  10 | 1000 | optimal    |  -12716.4         |  -12716.4         |      0.0312 |        4.64062  |  2.00089e-11 | 1.57347e-15 |\n",
      "|  50 |  100 | optimal    |  -32007           |  -32007           |      0      |        0.03125  | -3.63798e-12 | 1.13662e-16 |\n",
      "|  50 |  200 | optimal    |  -62092.7         |  -62092.7         |      0      |        0.0625   |  7.27596e-12 | 1.17179e-16 |\n",
      "|  50 |  500 | optimal    | -155839           | -155839           |      0      |        0.75     |  4.07454e-10 | 2.61458e-15 |\n",
      "|  50 | 1000 | optimal    | -315116           | -315116           |      0.0312 |        4.375    |  6.98492e-10 | 2.21662e-15 |\n",
      "|  90 |  100 | optimal    | -101264           | -101264           |      0      |        0.03125  |  0           | 0           |\n",
      "|  90 |  200 | optimal    | -202614           | -202614           |      0      |        0.0625   | -5.82077e-11 | 2.87283e-16 |\n",
      "|  90 |  500 | optimal    | -505480           | -505480           |      0.0312 |        0.609375 |  8.73115e-10 | 1.7273e-15  |\n",
      "|  90 | 1000 | optimal    |      -1.01695e+06 |      -1.01695e+06 |      0.0156 |        4.5      | -8.14907e-10 | 8.01325e-16 |\n"
     ]
    }
   ],
   "source": [
    "print_results(results_8, 'quadprog') "
   ]
  }
 ],
 "metadata": {
  "colab": {
   "provenance": []
  },
  "kernelspec": {
   "display_name": "base",
   "language": "python",
   "name": "python3"
  },
  "language_info": {
   "codemirror_mode": {
    "name": "ipython",
    "version": 3
   },
   "file_extension": ".py",
   "mimetype": "text/x-python",
   "name": "python",
   "nbconvert_exporter": "python",
   "pygments_lexer": "ipython3",
   "version": "3.11.7"
  }
 },
 "nbformat": 4,
 "nbformat_minor": 4
}
